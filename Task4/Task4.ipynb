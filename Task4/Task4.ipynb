{
 "cells": [
  {
   "cell_type": "markdown",
   "id": "0d1eda30",
   "metadata": {},
   "source": [
    "Code for LUHN Algorithm"
   ]
  },
  {
   "cell_type": "code",
   "execution_count": null,
   "id": "88f1d1af",
   "metadata": {},
   "outputs": [
    {
     "name": "stdout",
     "output_type": "stream",
     "text": [
      "Card 5893804115457289 is valid: True\n",
      "Card 1234567812345678 is valid: False\n"
     ]
    }
   ],
   "source": [
    "def check_card(card_no):\n",
    "    nums = []\n",
    "    for char in card_no:\n",
    "        if char != ' ':\n",
    "            nums.append(int(char))\n",
    "    \n",
    "    last_digit = nums[-1]\n",
    "    nums = nums[:-1]\n",
    "    \n",
    "    nums.reverse()\n",
    "    \n",
    "    for i in range(len(nums)):\n",
    "        if i % 2 == 0:\n",
    "            nums[i] = nums[i] * 2\n",
    "            if nums[i] > 9:\n",
    "                nums[i] = nums[i] - 9\n",
    "    \n",
    "    total = sum(nums) + last_digit\n",
    "    \n",
    "    if total % 10 == 0:\n",
    "        return True\n",
    "    else:\n",
    "        return False\n",
    "\n",
    "card = \"5893804115457289\"\n",
    "result = check_card(card)\n",
    "print(f\"Card {card} is valid: {result}\")\n",
    "\n",
    "card2 = \"1234567812345678\"\n",
    "print(f\"Card {card2} is valid: {check_card(card2)}\")\n"
   ]
  },
  {
   "cell_type": "markdown",
   "id": "dec73fa9",
   "metadata": {},
   "source": [
    "Write a python program to remove punctuations from the given string? "
   ]
  },
  {
   "cell_type": "code",
   "execution_count": null,
   "id": "e2d7ee0d",
   "metadata": {},
   "outputs": [
    {
     "name": "stdout",
     "output_type": "stream",
     "text": [
      "Original: Hello, World! This is a test - with punctuations.\n",
      "Without punctuation: Hello World This is a test  with punctuations\n"
     ]
    }
   ],
   "source": [
    "def remove_punc(text):\n",
    "    punctuations = '''!()-[]{};:'\",<>./?@#$%^&*_~'''  \n",
    "    result = \"\"\n",
    "    index = 0\n",
    "    \n",
    "    while index < len(text):\n",
    "        char = text[index]\n",
    "        if char not in punctuations:\n",
    "            result += char\n",
    "        index += 1\n",
    "    \n",
    "    return result\n",
    "\n",
    "my_text = \"Hello, World! This is a test - with punctuations.\"\n",
    "clean_text = remove_punc(my_text)\n",
    "\n",
    "print(\"Original:\", my_text)\n",
    "print(\"Without punctuation:\", clean_text)\n"
   ]
  },
  {
   "cell_type": "markdown",
   "id": "db0f8743",
   "metadata": {},
   "source": [
    "Write a python program to sort the sentence in alphabetical order?"
   ]
  },
  {
   "cell_type": "code",
   "execution_count": 14,
   "id": "b2f46ee5",
   "metadata": {},
   "outputs": [
    {
     "name": "stdout",
     "output_type": "stream",
     "text": [
      "Original sentence: Python is fun\n",
      "Sorted by ASCII (including spaces):   Pfhinnostuy\n"
     ]
    }
   ],
   "source": [
    "sentence = input(\"Enter a sentence: \")\n",
    "sorted_chars = sorted(sentence)\n",
    "print(\"Original sentence:\", sentence)\n",
    "print(\"Sorted by ASCII (including spaces):\", end=\" \")\n",
    "for char in sorted_chars:\n",
    "    print(char, end=\"\")\n",
    "print()\n"
   ]
  }
 ],
 "metadata": {
  "kernelspec": {
   "display_name": "base",
   "language": "python",
   "name": "python3"
  },
  "language_info": {
   "codemirror_mode": {
    "name": "ipython",
    "version": 3
   },
   "file_extension": ".py",
   "mimetype": "text/x-python",
   "name": "python",
   "nbconvert_exporter": "python",
   "pygments_lexer": "ipython3",
   "version": "3.12.7"
  }
 },
 "nbformat": 4,
 "nbformat_minor": 5
}
