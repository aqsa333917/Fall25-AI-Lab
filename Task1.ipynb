{
 "cells": [
  {
   "cell_type": "code",
   "execution_count": 1,
   "id": "a776d920",
   "metadata": {},
   "outputs": [
    {
     "name": "stdout",
     "output_type": "stream",
     "text": [
      "=== Dynamic Calculator ===\n",
      "Type 'exit' to quit\n",
      "\n",
      "Result = 16.9\n",
      "Goodbye!\n"
     ]
    }
   ],
   "source": [
    "print(\"=== Dynamic Calculator ===\")\n",
    "print(\"Type 'exit' to quit\\n\")\n",
    "\n",
    "while True:\n",
    "    expr = input(\"Enter expression: \")\n",
    "\n",
    "    if expr.lower() == \"exit\":\n",
    "        print(\"Goodbye!\")\n",
    "        break\n",
    "\n",
    "    try:\n",
    "        result = eval(expr)\n",
    "        print(\"Result =\", result)\n",
    "    except:\n",
    "        print(\"Invalid expression! Try again.\")"
   ]
  },
  {
   "cell_type": "code",
   "execution_count": 2,
   "id": "2ab00320",
   "metadata": {},
   "outputs": [
    {
     "name": "stdout",
     "output_type": "stream",
     "text": [
      "\n",
      "--- TO-DO LIST ---\n",
      "1. Add Task\n",
      "2. Show Tasks\n",
      "3. Mark Task as Done\n",
      "4. Exit\n",
      "Task added!\n",
      "\n",
      "--- TO-DO LIST ---\n",
      "1. Add Task\n",
      "2. Show Tasks\n",
      "3. Mark Task as Done\n",
      "4. Exit\n",
      "1. Go for a walk [Not Done]\n",
      "\n",
      "--- TO-DO LIST ---\n",
      "1. Add Task\n",
      "2. Show Tasks\n",
      "3. Mark Task as Done\n",
      "4. Exit\n",
      "1. Go for a walk [Not Done]\n",
      "Task 1 marked as done\n",
      "\n",
      "--- TO-DO LIST ---\n",
      "1. Add Task\n",
      "2. Show Tasks\n",
      "3. Mark Task as Done\n",
      "4. Exit\n",
      "Goodbye!\n"
     ]
    }
   ],
   "source": [
    "tasks = []\n",
    "\n",
    "while True:\n",
    "    print(\"\\n--- TO-DO LIST ---\")\n",
    "    print(\"1. Add Task\")\n",
    "    print(\"2. Show Tasks\")\n",
    "    print(\"3. Mark Task as Done\")\n",
    "    print(\"4. Exit\")\n",
    "    \n",
    "    choice = input(\"Enter choice: \")\n",
    "    \n",
    "    if choice == \"1\":\n",
    "        task = input(\"Enter task: \")\n",
    "        tasks.append({\"task\": task, \"done\": False})\n",
    "        print(\"Task added!\")\n",
    "    \n",
    "    elif choice == \"2\":\n",
    "        if not tasks:\n",
    "            print(\"No tasks yet!\")\n",
    "        else:\n",
    "            for i, t in enumerate(tasks, 1):\n",
    "                status = \"Done\" if t[\"done\"] else \"Not Done\"\n",
    "                print(f\"{i}. {t['task']} [{status}]\")\n",
    "    \n",
    "    elif choice == \"3\":\n",
    "        if not tasks:\n",
    "            print(\"No tasks to mark!\")\n",
    "        else:\n",
    "            for i, t in enumerate(tasks, 1):\n",
    "                status = \"Done\" if t[\"done\"] else \"Not Done\"\n",
    "                print(f\"{i}. {t['task']} [{status}]\")\n",
    "            num = int(input(\"Enter task number to mark as done: \"))\n",
    "            if 1 <= num <= len(tasks):\n",
    "                tasks[num-1][\"done\"] = True\n",
    "                print(f\"Task {num} marked as done\")\n",
    "            else:\n",
    "                print(\"Invalid task number!\")\n",
    "    \n",
    "    elif choice == \"4\":\n",
    "        print(\"Goodbye!\")\n",
    "        break\n",
    "    \n",
    "    else:\n",
    "        print(\"Invalid choice.\")\n"
   ]
  }
 ],
 "metadata": {
  "kernelspec": {
   "display_name": "base",
   "language": "python",
   "name": "python3"
  },
  "language_info": {
   "codemirror_mode": {
    "name": "ipython",
    "version": 3
   },
   "file_extension": ".py",
   "mimetype": "text/x-python",
   "name": "python",
   "nbconvert_exporter": "python",
   "pygments_lexer": "ipython3",
   "version": "3.12.7"
  }
 },
 "nbformat": 4,
 "nbformat_minor": 5
}
