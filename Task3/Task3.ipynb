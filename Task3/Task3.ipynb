{
 "cells": [
  {
   "cell_type": "markdown",
   "id": "b3e36110",
   "metadata": {},
   "source": [
    "• Model-Based Reflex Agent \n",
    "• This agent not only checks the current temperature but also remembers the previous \n",
    "action to avoid turning the heater on or off unnecessarily. "
   ]
  },
  {
   "cell_type": "code",
   "execution_count": null,
   "id": "3fc72000",
   "metadata": {},
   "outputs": [
    {
     "name": "stdout",
     "output_type": "stream",
     "text": [
      "Living Room:\t30 => Action: Turn off the Heater\n",
      "Drawing Room:\t24 => Action: No action needed\n",
      "Bed Room:\t16 => Action: Turn on the Heater\n",
      "Kitchen:\t34 => Action: Turn off the Heater\n"
     ]
    }
   ],
   "source": [
    "class ModelBasedReflexAgent:\n",
    "    def __init__(self, temp):\n",
    "        self.fixed_temp = temp\n",
    "        self.previous_action = None  \n",
    "        \n",
    "    def sensor(self, temp):\n",
    "        self.current_temp = temp\n",
    "    \n",
    "    def performance(self):\n",
    "        if self.current_temp > self.fixed_temp:\n",
    "            action = \"Turn off the Heater\"\n",
    "        else:\n",
    "            action = \"Turn on the Heater\"\n",
    "        \n",
    "        # Avoid unnecessary switching\n",
    "        if action == self.previous_action:\n",
    "            action = \"No action needed\"\n",
    "        else:\n",
    "            self.previous_action = action\n",
    "            \n",
    "        return action\n",
    "            \n",
    "    def actuator(self):\n",
    "        action = self.performance()\n",
    "        print(self.current_temp, \"=> Action:\", action)\n",
    "\n",
    "agent = ModelBasedReflexAgent(18)\n",
    "rooms = {\n",
    "    \"Living Room\" : 30,\n",
    "    \"Drawing Room\" : 24,\n",
    "    \"Bed Room\" : 16,\n",
    "    \"Kitchen\" : 34\n",
    "}\n",
    "for room, temp in rooms.items():\n",
    "    print(room, end=\":\\t\")\n",
    "    agent.sensor(temp)\n",
    "    agent.actuator()\n"
   ]
  }
 ],
 "metadata": {
  "kernelspec": {
   "display_name": "base",
   "language": "python",
   "name": "python3"
  },
  "language_info": {
   "codemirror_mode": {
    "name": "ipython",
    "version": 3
   },
   "file_extension": ".py",
   "mimetype": "text/x-python",
   "name": "python",
   "nbconvert_exporter": "python",
   "pygments_lexer": "ipython3",
   "version": "3.12.7"
  }
 },
 "nbformat": 4,
 "nbformat_minor": 5
}
